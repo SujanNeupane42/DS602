{
 "cells": [
  {
   "cell_type": "markdown",
   "id": "92665e74",
   "metadata": {},
   "source": [
    "# Week3 - Homework\n",
    "\n",
    "Write a rule based predictor for the dataset below. \n",
    "\n",
    "Choose one of the following datasets and do your EDA. \n",
    "Test your assumptions. \n",
    "\n",
    "Finally write your code in `predict_one` function. \n",
    "\n",
    "Do __NOT__ change the function signature! This function should only take name and return `F` or `M`"
   ]
  },
  {
   "cell_type": "code",
   "execution_count": 1,
   "id": "b5023c0a",
   "metadata": {},
   "outputs": [],
   "source": [
    "import warnings\n",
    "warnings.filterwarnings(\"ignore\")   "
   ]
  },
  {
   "cell_type": "code",
   "execution_count": 2,
   "id": "71cb00e3",
   "metadata": {
    "scrolled": true
   },
   "outputs": [
    {
     "name": "stdout",
     "output_type": "stream",
     "text": [
      "<class 'pandas.core.frame.DataFrame'>\n",
      "RangeIndex: 36277 entries, 0 to 36276\n",
      "Data columns (total 2 columns):\n",
      " #   Column  Non-Null Count  Dtype \n",
      "---  ------  --------------  ----- \n",
      " 0   name    36277 non-null  object\n",
      " 1   gender  36277 non-null  object\n",
      "dtypes: object(2)\n",
      "memory usage: 567.0+ KB\n"
     ]
    }
   ],
   "source": [
    "import pandas as pd\n",
    "import numpy as np\n",
    "from matplotlib import pyplot as plt\n",
    "import seaborn as sns\n",
    "\n",
    "us_names = 'https://raw.githubusercontent.com/msaricaumbc/DS_data/master/ds602/names/us_names.csv'\n",
    "\n",
    "df = pd.read_csv(us_names)\n",
    "df.dropna(inplace=True)\n",
    "df.info()"
   ]
  },
  {
   "cell_type": "code",
   "execution_count": 3,
   "id": "03ad628a",
   "metadata": {},
   "outputs": [
    {
     "data": {
      "text/plain": [
       "gender\n",
       "F    21789\n",
       "M    14488\n",
       "Name: count, dtype: int64"
      ]
     },
     "execution_count": 3,
     "metadata": {},
     "output_type": "execute_result"
    }
   ],
   "source": [
    "df.gender.value_counts()"
   ]
  },
  {
   "cell_type": "markdown",
   "id": "3065ca7f",
   "metadata": {},
   "source": [
    "Not balanced! For simplicity, let's create a sub sample that will contains equal F and M."
   ]
  },
  {
   "cell_type": "code",
   "execution_count": 4,
   "id": "f042ada9",
   "metadata": {},
   "outputs": [],
   "source": [
    "min_count = min(df['gender'].value_counts())\n",
    "\n",
    "df_f = df[df['gender'] == 'F'].sample(min_count, random_state=42)\n",
    "df_m = df[df['gender'] == 'M'].sample(min_count, random_state=42)\n",
    "\n",
    "df = pd.concat([df_f, df_m]).reset_index(drop=True)"
   ]
  },
  {
   "cell_type": "code",
   "execution_count": 5,
   "id": "d88a3635",
   "metadata": {},
   "outputs": [
    {
     "data": {
      "text/plain": [
       "gender\n",
       "F    14488\n",
       "M    14488\n",
       "Name: count, dtype: int64"
      ]
     },
     "execution_count": 5,
     "metadata": {},
     "output_type": "execute_result"
    }
   ],
   "source": [
    "df.gender.value_counts()"
   ]
  },
  {
   "cell_type": "code",
   "execution_count": 6,
   "id": "e04e6545",
   "metadata": {},
   "outputs": [
    {
     "data": {
      "text/html": [
       "<div>\n",
       "<style scoped>\n",
       "    .dataframe tbody tr th:only-of-type {\n",
       "        vertical-align: middle;\n",
       "    }\n",
       "\n",
       "    .dataframe tbody tr th {\n",
       "        vertical-align: top;\n",
       "    }\n",
       "\n",
       "    .dataframe thead th {\n",
       "        text-align: right;\n",
       "    }\n",
       "</style>\n",
       "<table border=\"1\" class=\"dataframe\">\n",
       "  <thead>\n",
       "    <tr style=\"text-align: right;\">\n",
       "      <th></th>\n",
       "      <th>name</th>\n",
       "      <th>gender</th>\n",
       "    </tr>\n",
       "  </thead>\n",
       "  <tbody>\n",
       "    <tr>\n",
       "      <th>0</th>\n",
       "      <td>Brennen</td>\n",
       "      <td>F</td>\n",
       "    </tr>\n",
       "    <tr>\n",
       "      <th>1</th>\n",
       "      <td>Chikaima</td>\n",
       "      <td>F</td>\n",
       "    </tr>\n",
       "    <tr>\n",
       "      <th>2</th>\n",
       "      <td>Zoejane</td>\n",
       "      <td>F</td>\n",
       "    </tr>\n",
       "    <tr>\n",
       "      <th>3</th>\n",
       "      <td>Teegan</td>\n",
       "      <td>F</td>\n",
       "    </tr>\n",
       "    <tr>\n",
       "      <th>4</th>\n",
       "      <td>Alanda</td>\n",
       "      <td>F</td>\n",
       "    </tr>\n",
       "  </tbody>\n",
       "</table>\n",
       "</div>"
      ],
      "text/plain": [
       "       name gender\n",
       "0   Brennen      F\n",
       "1  Chikaima      F\n",
       "2   Zoejane      F\n",
       "3    Teegan      F\n",
       "4    Alanda      F"
      ]
     },
     "execution_count": 6,
     "metadata": {},
     "output_type": "execute_result"
    }
   ],
   "source": [
    "df.head()"
   ]
  },
  {
   "cell_type": "code",
   "execution_count": 7,
   "id": "26579604",
   "metadata": {},
   "outputs": [],
   "source": [
    "df[\"name\"] = df[\"name\"].str.lower()"
   ]
  },
  {
   "cell_type": "code",
   "execution_count": 8,
   "id": "8bc01540",
   "metadata": {},
   "outputs": [
    {
     "data": {
      "text/html": [
       "<div>\n",
       "<style scoped>\n",
       "    .dataframe tbody tr th:only-of-type {\n",
       "        vertical-align: middle;\n",
       "    }\n",
       "\n",
       "    .dataframe tbody tr th {\n",
       "        vertical-align: top;\n",
       "    }\n",
       "\n",
       "    .dataframe thead th {\n",
       "        text-align: right;\n",
       "    }\n",
       "</style>\n",
       "<table border=\"1\" class=\"dataframe\">\n",
       "  <thead>\n",
       "    <tr style=\"text-align: right;\">\n",
       "      <th></th>\n",
       "      <th>name</th>\n",
       "      <th>gender</th>\n",
       "    </tr>\n",
       "  </thead>\n",
       "  <tbody>\n",
       "    <tr>\n",
       "      <th>0</th>\n",
       "      <td>brennen</td>\n",
       "      <td>F</td>\n",
       "    </tr>\n",
       "    <tr>\n",
       "      <th>1</th>\n",
       "      <td>chikaima</td>\n",
       "      <td>F</td>\n",
       "    </tr>\n",
       "    <tr>\n",
       "      <th>2</th>\n",
       "      <td>zoejane</td>\n",
       "      <td>F</td>\n",
       "    </tr>\n",
       "    <tr>\n",
       "      <th>3</th>\n",
       "      <td>teegan</td>\n",
       "      <td>F</td>\n",
       "    </tr>\n",
       "    <tr>\n",
       "      <th>4</th>\n",
       "      <td>alanda</td>\n",
       "      <td>F</td>\n",
       "    </tr>\n",
       "    <tr>\n",
       "      <th>...</th>\n",
       "      <td>...</td>\n",
       "      <td>...</td>\n",
       "    </tr>\n",
       "    <tr>\n",
       "      <th>28971</th>\n",
       "      <td>arther</td>\n",
       "      <td>M</td>\n",
       "    </tr>\n",
       "    <tr>\n",
       "      <th>28972</th>\n",
       "      <td>jamani</td>\n",
       "      <td>M</td>\n",
       "    </tr>\n",
       "    <tr>\n",
       "      <th>28973</th>\n",
       "      <td>mickeal</td>\n",
       "      <td>M</td>\n",
       "    </tr>\n",
       "    <tr>\n",
       "      <th>28974</th>\n",
       "      <td>chad</td>\n",
       "      <td>M</td>\n",
       "    </tr>\n",
       "    <tr>\n",
       "      <th>28975</th>\n",
       "      <td>leory</td>\n",
       "      <td>M</td>\n",
       "    </tr>\n",
       "  </tbody>\n",
       "</table>\n",
       "<p>28976 rows × 2 columns</p>\n",
       "</div>"
      ],
      "text/plain": [
       "           name gender\n",
       "0       brennen      F\n",
       "1      chikaima      F\n",
       "2       zoejane      F\n",
       "3        teegan      F\n",
       "4        alanda      F\n",
       "...         ...    ...\n",
       "28971    arther      M\n",
       "28972    jamani      M\n",
       "28973   mickeal      M\n",
       "28974      chad      M\n",
       "28975     leory      M\n",
       "\n",
       "[28976 rows x 2 columns]"
      ]
     },
     "execution_count": 8,
     "metadata": {},
     "output_type": "execute_result"
    }
   ],
   "source": [
    "df"
   ]
  },
  {
   "cell_type": "markdown",
   "id": "96ce8445",
   "metadata": {},
   "source": [
    "## Part1:\n",
    "\n",
    "Run experiments to select which rules are good seperator for gender."
   ]
  },
  {
   "cell_type": "markdown",
   "id": "8c95c921",
   "metadata": {},
   "source": [
    "### Two examples:"
   ]
  },
  {
   "cell_type": "markdown",
   "id": "ec8b67c5",
   "metadata": {},
   "source": [
    "### 1. Example 1 based on vowel letters"
   ]
  },
  {
   "cell_type": "code",
   "execution_count": 9,
   "id": "88d552f1",
   "metadata": {},
   "outputs": [],
   "source": [
    "# checking if the last digit is actually vowel or not\n",
    "df['is_last_letter_vowel'] = [  name[-1:] in 'aeiou' for name in df.name]"
   ]
  },
  {
   "cell_type": "code",
   "execution_count": 10,
   "id": "50fcd092",
   "metadata": {},
   "outputs": [
    {
     "data": {
      "text/plain": [
       "<AxesSubplot: xlabel='is_last_letter_vowel', ylabel='count'>"
      ]
     },
     "execution_count": 10,
     "metadata": {},
     "output_type": "execute_result"
    },
    {
     "data": {
      "image/png": "[encoded data removed]",
      "text/plain": [
       "<Figure size 640x480 with 1 Axes>"
      ]
     },
     "metadata": {},
     "output_type": "display_data"
    }
   ],
   "source": [
    "import seaborn as sns\n",
    "\n",
    "sns.countplot(data = df, x = 'is_last_letter_vowel', hue = 'gender')"
   ]
  },
  {
   "cell_type": "markdown",
   "id": "e56ef9cd",
   "metadata": {},
   "source": [
    "Majority of Women seem to have vowel in their last character of name. Lets check accuracy for a rule-based approach with this technique"
   ]
  },
  {
   "cell_type": "code",
   "execution_count": 11,
   "id": "909a01a9",
   "metadata": {},
   "outputs": [],
   "source": [
    "is_vowel = df[\"is_last_letter_vowel\"]"
   ]
  },
  {
   "cell_type": "code",
   "execution_count": 12,
   "id": "6edc4b19",
   "metadata": {},
   "outputs": [],
   "source": [
    "df['predicted_gender'] = np.where(is_vowel, 'F', 'M')"
   ]
  },
  {
   "cell_type": "code",
   "execution_count": 13,
   "id": "ba0cec62",
   "metadata": {},
   "outputs": [
    {
     "data": {
      "text/plain": [
       "68.8017669795693"
      ]
     },
     "execution_count": 13,
     "metadata": {},
     "output_type": "execute_result"
    }
   ],
   "source": [
    "sum(df[\"gender\"] == df[\"predicted_gender\"])/ df.shape[0] * 100"
   ]
  },
  {
   "cell_type": "markdown",
   "id": "f934379b",
   "metadata": {},
   "source": [
    "By just checking whether the ending is vowel or not, we were able to increaes accuracy from 50% to almost 69%"
   ]
  },
  {
   "cell_type": "markdown",
   "id": "0cd7e3f7",
   "metadata": {},
   "source": [
    "### 2. Second Example based on the length of name"
   ]
  },
  {
   "cell_type": "code",
   "execution_count": 14,
   "id": "0822aff7",
   "metadata": {},
   "outputs": [
    {
     "data": {
      "text/plain": [
       "<AxesSubplot: xlabel='len', ylabel='count'>"
      ]
     },
     "execution_count": 14,
     "metadata": {},
     "output_type": "execute_result"
    },
    {
     "data": {
      "image/png": "[encoded data removed]",
      "text/plain": [
       "<Figure size 640x480 with 1 Axes>"
      ]
     },
     "metadata": {},
     "output_type": "display_data"
    }
   ],
   "source": [
    "df['len'] = [ len(name) for name in df.name]\n",
    "sns.countplot(data = df, x = 'len', hue = 'gender')"
   ]
  },
  {
   "cell_type": "markdown",
   "id": "b036375f",
   "metadata": {},
   "source": [
    "Seems like length doesn't also seem like a good separator"
   ]
  },
  {
   "cell_type": "markdown",
   "id": "6195c0c4",
   "metadata": {},
   "source": [
    "### 3. Let's check  based on the First character of the Name"
   ]
  },
  {
   "cell_type": "code",
   "execution_count": 15,
   "id": "80c45d74",
   "metadata": {},
   "outputs": [],
   "source": [
    "df = df[[\"name\", \"gender\", \"is_last_letter_vowel\", \"predicted_gender\"]]"
   ]
  },
  {
   "cell_type": "code",
   "execution_count": 16,
   "id": "78389a92",
   "metadata": {},
   "outputs": [],
   "source": [
    "# lets look at the distribution of names by first letter but also at the same time their gender.\n",
    "# I know from personal experience that female names tend to start a lot with A, M, S, (Asmita, Manisha, Sunita) They are my sisters back in Nepal actually.\n",
    "df['first_letter'] = df['name'].str[0]"
   ]
  },
  {
   "cell_type": "code",
   "execution_count": 17,
   "id": "6dc0e92d",
   "metadata": {},
   "outputs": [
    {
     "data": {
      "text/plain": [
       "first_letter\n",
       "a    3114\n",
       "j    2243\n",
       "m    2219\n",
       "s    2218\n",
       "k    2151\n",
       "d    1799\n",
       "c    1712\n",
       "l    1578\n",
       "t    1540\n",
       "r    1395\n",
       "e    1259\n",
       "b    1190\n",
       "n     976\n",
       "h     813\n",
       "g     759\n",
       "y     532\n",
       "p     513\n",
       "i     504\n",
       "z     488\n",
       "v     466\n",
       "f     440\n",
       "o     428\n",
       "w     352\n",
       "q     124\n",
       "x      83\n",
       "u      80\n",
       "Name: count, dtype: int64"
      ]
     },
     "execution_count": 17,
     "metadata": {},
     "output_type": "execute_result"
    }
   ],
   "source": [
    "df['first_letter'].value_counts()"
   ]
  },
  {
   "cell_type": "markdown",
   "id": "1bc97a2c",
   "metadata": {},
   "source": [
    "<b> As I thought, A, M and S are most prominent for first character in female names. lets look at the plot"
   ]
  },
  {
   "cell_type": "code",
   "execution_count": 18,
   "id": "740d538a",
   "metadata": {},
   "outputs": [
    {
     "data": {
      "image/png": "[encoded data removed]",
      "text/plain": [
       "<Figure size 1200x600 with 1 Axes>"
      ]
     },
     "metadata": {},
     "output_type": "display_data"
    }
   ],
   "source": [
    "plt.figure(figsize=(12, 6))\n",
    "sns.countplot(data=df, x='first_letter', hue='gender', order=sorted(df['first_letter'].unique()))\n",
    "plt.title('Barplot For Gender Distribution by First Letter of Name')\n",
    "plt.show()"
   ]
  },
  {
   "cell_type": "markdown",
   "id": "c8d0a7fc",
   "metadata": {},
   "source": [
    "This is interesting. What if we select top 3 cases (A, M and S) and just make any name that start with these characters as Female, and anyone with their name ends with AEIOU (vowel characters) as Female and rest as male. Also, lets check accuracy for that"
   ]
  },
  {
   "cell_type": "code",
   "execution_count": 19,
   "id": "ec66dc4a",
   "metadata": {},
   "outputs": [
    {
     "data": {
      "text/html": [
       "<div>\n",
       "<style scoped>\n",
       "    .dataframe tbody tr th:only-of-type {\n",
       "        vertical-align: middle;\n",
       "    }\n",
       "\n",
       "    .dataframe tbody tr th {\n",
       "        vertical-align: top;\n",
       "    }\n",
       "\n",
       "    .dataframe thead th {\n",
       "        text-align: right;\n",
       "    }\n",
       "</style>\n",
       "<table border=\"1\" class=\"dataframe\">\n",
       "  <thead>\n",
       "    <tr style=\"text-align: right;\">\n",
       "      <th></th>\n",
       "      <th>name</th>\n",
       "      <th>gender</th>\n",
       "      <th>is_last_letter_vowel</th>\n",
       "      <th>predicted_gender</th>\n",
       "      <th>first_letter</th>\n",
       "    </tr>\n",
       "  </thead>\n",
       "  <tbody>\n",
       "    <tr>\n",
       "      <th>0</th>\n",
       "      <td>brennen</td>\n",
       "      <td>F</td>\n",
       "      <td>False</td>\n",
       "      <td>M</td>\n",
       "      <td>b</td>\n",
       "    </tr>\n",
       "    <tr>\n",
       "      <th>1</th>\n",
       "      <td>chikaima</td>\n",
       "      <td>F</td>\n",
       "      <td>True</td>\n",
       "      <td>F</td>\n",
       "      <td>c</td>\n",
       "    </tr>\n",
       "    <tr>\n",
       "      <th>2</th>\n",
       "      <td>zoejane</td>\n",
       "      <td>F</td>\n",
       "      <td>True</td>\n",
       "      <td>F</td>\n",
       "      <td>z</td>\n",
       "    </tr>\n",
       "    <tr>\n",
       "      <th>3</th>\n",
       "      <td>teegan</td>\n",
       "      <td>F</td>\n",
       "      <td>False</td>\n",
       "      <td>M</td>\n",
       "      <td>t</td>\n",
       "    </tr>\n",
       "    <tr>\n",
       "      <th>4</th>\n",
       "      <td>alanda</td>\n",
       "      <td>F</td>\n",
       "      <td>True</td>\n",
       "      <td>F</td>\n",
       "      <td>a</td>\n",
       "    </tr>\n",
       "    <tr>\n",
       "      <th>...</th>\n",
       "      <td>...</td>\n",
       "      <td>...</td>\n",
       "      <td>...</td>\n",
       "      <td>...</td>\n",
       "      <td>...</td>\n",
       "    </tr>\n",
       "    <tr>\n",
       "      <th>28971</th>\n",
       "      <td>arther</td>\n",
       "      <td>M</td>\n",
       "      <td>False</td>\n",
       "      <td>M</td>\n",
       "      <td>a</td>\n",
       "    </tr>\n",
       "    <tr>\n",
       "      <th>28972</th>\n",
       "      <td>jamani</td>\n",
       "      <td>M</td>\n",
       "      <td>True</td>\n",
       "      <td>F</td>\n",
       "      <td>j</td>\n",
       "    </tr>\n",
       "    <tr>\n",
       "      <th>28973</th>\n",
       "      <td>mickeal</td>\n",
       "      <td>M</td>\n",
       "      <td>False</td>\n",
       "      <td>M</td>\n",
       "      <td>m</td>\n",
       "    </tr>\n",
       "    <tr>\n",
       "      <th>28974</th>\n",
       "      <td>chad</td>\n",
       "      <td>M</td>\n",
       "      <td>False</td>\n",
       "      <td>M</td>\n",
       "      <td>c</td>\n",
       "    </tr>\n",
       "    <tr>\n",
       "      <th>28975</th>\n",
       "      <td>leory</td>\n",
       "      <td>M</td>\n",
       "      <td>False</td>\n",
       "      <td>M</td>\n",
       "      <td>l</td>\n",
       "    </tr>\n",
       "  </tbody>\n",
       "</table>\n",
       "<p>28976 rows × 5 columns</p>\n",
       "</div>"
      ],
      "text/plain": [
       "           name gender  is_last_letter_vowel predicted_gender first_letter\n",
       "0       brennen      F                 False                M            b\n",
       "1      chikaima      F                  True                F            c\n",
       "2       zoejane      F                  True                F            z\n",
       "3        teegan      F                 False                M            t\n",
       "4        alanda      F                  True                F            a\n",
       "...         ...    ...                   ...              ...          ...\n",
       "28971    arther      M                 False                M            a\n",
       "28972    jamani      M                  True                F            j\n",
       "28973   mickeal      M                 False                M            m\n",
       "28974      chad      M                 False                M            c\n",
       "28975     leory      M                 False                M            l\n",
       "\n",
       "[28976 rows x 5 columns]"
      ]
     },
     "execution_count": 19,
     "metadata": {},
     "output_type": "execute_result"
    }
   ],
   "source": [
    "df"
   ]
  },
  {
   "cell_type": "code",
   "execution_count": 20,
   "id": "4fdfb7c7",
   "metadata": {},
   "outputs": [],
   "source": [
    "df['is_first_letter_AMS'] = df['first_letter'].apply(lambda x : x[0] in 'ams')"
   ]
  },
  {
   "cell_type": "code",
   "execution_count": 21,
   "id": "ef49dc63",
   "metadata": {},
   "outputs": [],
   "source": [
    "is_vowel_or_AMS = df[\"is_last_letter_vowel\"] | df[\"is_first_letter_AMS\"]"
   ]
  },
  {
   "cell_type": "code",
   "execution_count": 22,
   "id": "666a4b5a",
   "metadata": {},
   "outputs": [],
   "source": [
    "df['predicted_gender'] = np.where(is_vowel_or_AMS, 'F', 'M')"
   ]
  },
  {
   "cell_type": "code",
   "execution_count": 23,
   "id": "fe94bcbe",
   "metadata": {},
   "outputs": [
    {
     "data": {
      "text/plain": [
       "66.12368856985091"
      ]
     },
     "execution_count": 23,
     "metadata": {},
     "output_type": "execute_result"
    }
   ],
   "source": [
    "sum(df[\"gender\"] == df[\"predicted_gender\"])/ df.shape[0] * 100"
   ]
  },
  {
   "cell_type": "markdown",
   "id": "8fb134f7",
   "metadata": {},
   "source": [
    "### 4. Consonant and Vowel Count Based Name Classification."
   ]
  },
  {
   "cell_type": "code",
   "execution_count": 24,
   "id": "d93de4a5",
   "metadata": {},
   "outputs": [],
   "source": [
    "# get the count of available vowel characters in the name column\n",
    "df[\"Vowel_Count\"] = df[\"name\"].apply(lambda x: sum([1 for i in x if i in 'aeiou']))\n",
    "\n",
    "# get the count of available consonant characters in the name column\n",
    "df[\"Consonant_Count\"] = df[\"name\"].apply(lambda x: sum([1 for i in x if i not in 'aeiou']))"
   ]
  },
  {
   "cell_type": "code",
   "execution_count": 25,
   "id": "7864c483",
   "metadata": {},
   "outputs": [
    {
     "data": {
      "text/html": [
       "<div>\n",
       "<style scoped>\n",
       "    .dataframe tbody tr th:only-of-type {\n",
       "        vertical-align: middle;\n",
       "    }\n",
       "\n",
       "    .dataframe tbody tr th {\n",
       "        vertical-align: top;\n",
       "    }\n",
       "\n",
       "    .dataframe thead th {\n",
       "        text-align: right;\n",
       "    }\n",
       "</style>\n",
       "<table border=\"1\" class=\"dataframe\">\n",
       "  <thead>\n",
       "    <tr style=\"text-align: right;\">\n",
       "      <th></th>\n",
       "      <th>name</th>\n",
       "      <th>gender</th>\n",
       "      <th>is_last_letter_vowel</th>\n",
       "      <th>predicted_gender</th>\n",
       "      <th>first_letter</th>\n",
       "      <th>is_first_letter_AMS</th>\n",
       "      <th>Vowel_Count</th>\n",
       "      <th>Consonant_Count</th>\n",
       "    </tr>\n",
       "  </thead>\n",
       "  <tbody>\n",
       "    <tr>\n",
       "      <th>0</th>\n",
       "      <td>brennen</td>\n",
       "      <td>F</td>\n",
       "      <td>False</td>\n",
       "      <td>M</td>\n",
       "      <td>b</td>\n",
       "      <td>False</td>\n",
       "      <td>2</td>\n",
       "      <td>5</td>\n",
       "    </tr>\n",
       "    <tr>\n",
       "      <th>1</th>\n",
       "      <td>chikaima</td>\n",
       "      <td>F</td>\n",
       "      <td>True</td>\n",
       "      <td>F</td>\n",
       "      <td>c</td>\n",
       "      <td>False</td>\n",
       "      <td>4</td>\n",
       "      <td>4</td>\n",
       "    </tr>\n",
       "    <tr>\n",
       "      <th>2</th>\n",
       "      <td>zoejane</td>\n",
       "      <td>F</td>\n",
       "      <td>True</td>\n",
       "      <td>F</td>\n",
       "      <td>z</td>\n",
       "      <td>False</td>\n",
       "      <td>4</td>\n",
       "      <td>3</td>\n",
       "    </tr>\n",
       "    <tr>\n",
       "      <th>3</th>\n",
       "      <td>teegan</td>\n",
       "      <td>F</td>\n",
       "      <td>False</td>\n",
       "      <td>M</td>\n",
       "      <td>t</td>\n",
       "      <td>False</td>\n",
       "      <td>3</td>\n",
       "      <td>3</td>\n",
       "    </tr>\n",
       "    <tr>\n",
       "      <th>4</th>\n",
       "      <td>alanda</td>\n",
       "      <td>F</td>\n",
       "      <td>True</td>\n",
       "      <td>F</td>\n",
       "      <td>a</td>\n",
       "      <td>True</td>\n",
       "      <td>3</td>\n",
       "      <td>3</td>\n",
       "    </tr>\n",
       "  </tbody>\n",
       "</table>\n",
       "</div>"
      ],
      "text/plain": [
       "       name gender  is_last_letter_vowel predicted_gender first_letter  \\\n",
       "0   brennen      F                 False                M            b   \n",
       "1  chikaima      F                  True                F            c   \n",
       "2   zoejane      F                  True                F            z   \n",
       "3    teegan      F                 False                M            t   \n",
       "4    alanda      F                  True                F            a   \n",
       "\n",
       "   is_first_letter_AMS  Vowel_Count  Consonant_Count  \n",
       "0                False            2                5  \n",
       "1                False            4                4  \n",
       "2                False            4                3  \n",
       "3                False            3                3  \n",
       "4                 True            3                3  "
      ]
     },
     "execution_count": 25,
     "metadata": {},
     "output_type": "execute_result"
    }
   ],
   "source": [
    "df.head()"
   ]
  },
  {
   "cell_type": "code",
   "execution_count": 26,
   "id": "e5810fdd",
   "metadata": {},
   "outputs": [
    {
     "data": {
      "image/png": "[encoded data removed]",
      "text/plain": [
       "<Figure size 1200x600 with 1 Axes>"
      ]
     },
     "metadata": {},
     "output_type": "display_data"
    }
   ],
   "source": [
    "plt.figure(figsize=(12, 6))\n",
    "sns.boxplot(x='gender', y= \"Vowel_Count\", data=df)\n",
    "plt.title('Distribution of Vowel Count With Respect to Gender')\n",
    "plt.xlabel(\"Gender\")\n",
    "plt.ylabel(\"Number of Vowel Characters in Name\")\n",
    "plt.show()"
   ]
  },
  {
   "cell_type": "markdown",
   "id": "e9098a77",
   "metadata": {},
   "source": [
    "Well, there does not seem to be much of a relation between the number of vowel characters and the name for either of the gender. So, this is not really useful. Lets check for consonants."
   ]
  },
  {
   "cell_type": "code",
   "execution_count": 27,
   "id": "fc9dffa1",
   "metadata": {},
   "outputs": [
    {
     "data": {
      "image/png": "[encoded data removed]",
      "text/plain": [
       "<Figure size 1200x600 with 1 Axes>"
      ]
     },
     "metadata": {},
     "output_type": "display_data"
    }
   ],
   "source": [
    "plt.figure(figsize=(12, 6))\n",
    "sns.boxplot(x='gender', y= \"Consonant_Count\", data=df)\n",
    "plt.title('Distribution of Consonant Count With Respect to Gender')\n",
    "plt.xlabel(\"Gender\")\n",
    "plt.ylabel(\"Number of Consonant Characters in Name\")\n",
    "plt.show()"
   ]
  },
  {
   "cell_type": "markdown",
   "id": "f11c8577",
   "metadata": {},
   "source": [
    "Well, there does not seem to be much of a relation between the number of Consonant characters and the name for either of the gender. So, this is not really useful as well. Let's explore other techniques."
   ]
  },
  {
   "cell_type": "markdown",
   "id": "a28c56aa",
   "metadata": {},
   "source": [
    "# 5. Syllables Count Vs Gender\n",
    "\n",
    "Lets check the syllables each name has and check if there is a relationship"
   ]
  },
  {
   "cell_type": "code",
   "execution_count": 28,
   "id": "51be0006",
   "metadata": {},
   "outputs": [],
   "source": [
    "'''\n",
    "This functionn, by no means is perfect. I found a great reference starting point from the following stack overflow quesiton:\n",
    "https://stackoverflow.com/questions/46759492/syllable-count-in-python\n",
    "'''\n",
    "\n",
    "# y can be considered a vowel when pronouncing a name\n",
    "# for instance,  Emily, Lily, Mary, etc.\n",
    "# Em, i, ly (here, y sounds liks a vowel as i or e emili or emilie. So, for the purpose of counting syllables, - \n",
    "# i will use y as a vowel as well\n",
    "vowel_character = \"aeiouy\" \n",
    "\n",
    "def get_syllable_count(name):\n",
    "    count = 0\n",
    "\n",
    "    # first charcter\n",
    "    first_character = name[0]\n",
    "    if first_character in vowel_character:\n",
    "        count += 1\n",
    "    \n",
    "    # checking for second to last second characters. \n",
    "    # According to the syllable count method, we know that if current character is a vowel -\n",
    "    # but the previous character is not a vowel, then it can be considered as a syllable\n",
    "    for i in range(1, len(name)):\n",
    "        if name[i] in vowel_character and name[i-1] not in vowel_character:\n",
    "            count += 1\n",
    "\n",
    "    \n",
    "    # check if the last character ends with one of the vowel characters. If so, \n",
    "    # then it is also a syllable\n",
    "    if name[-1] in vowel_character:\n",
    "        count += 1\n",
    "\n",
    "    # if none of the above conditions are met, then the name -\n",
    "    # - can be 1 syllable\n",
    "    if count == 0:\n",
    "        return 1\n",
    "    \n",
    "    return count"
   ]
  },
  {
   "cell_type": "code",
   "execution_count": 29,
   "id": "259a0970",
   "metadata": {},
   "outputs": [],
   "source": [
    "# counting the syllable\n",
    "df[\"syllable_count\"] = df[\"name\"].apply(get_syllable_count)"
   ]
  },
  {
   "cell_type": "code",
   "execution_count": 30,
   "id": "fa5bb812",
   "metadata": {},
   "outputs": [
    {
     "data": {
      "image/png": "[encoded data removed]",
      "text/plain": [
       "<Figure size 1200x600 with 1 Axes>"
      ]
     },
     "metadata": {},
     "output_type": "display_data"
    }
   ],
   "source": [
    "plt.figure(figsize=(12, 6))\n",
    "sns.boxplot(x='gender', y='syllable_count', data=df, color='red')\n",
    "plt.title('Distribution of Syllables with respect to the gender')\n",
    "plt.xlabel('Gender')\n",
    "plt.ylabel('Count of available syllables in the name')\n",
    "plt.show()"
   ]
  },
  {
   "cell_type": "markdown",
   "id": "fb7d5948",
   "metadata": {},
   "source": [
    "Interesting. If we look at the boxplot properly, 1st quartile syllable count for females is also higher than the 3rd quartile syllable count than males.\n",
    "\n",
    "<b> From the boxplot, we can also see that males generally tend to have less than 3 syllable count. We could use this threshold to determine gender, given a name. Lets try this"
   ]
  },
  {
   "cell_type": "code",
   "execution_count": 31,
   "id": "de1b3679",
   "metadata": {},
   "outputs": [],
   "source": [
    "df[\"gender_based_on_syllables_count\"] = df[\"syllable_count\"].apply(lambda x: \"M\" if x <3 else \"F\")"
   ]
  },
  {
   "cell_type": "code",
   "execution_count": 32,
   "id": "12d38a9c",
   "metadata": {},
   "outputs": [
    {
     "data": {
      "text/plain": [
       "67.9803975704031"
      ]
     },
     "execution_count": 32,
     "metadata": {},
     "output_type": "execute_result"
    }
   ],
   "source": [
    "sum(df[\"gender\"] == df[\"gender_based_on_syllables_count\"])/ df.shape[0] * 100"
   ]
  },
  {
   "cell_type": "markdown",
   "id": "2930feb0",
   "metadata": {},
   "source": [
    "<b> Well, that actually bad. Lets make the threshold stricter."
   ]
  },
  {
   "cell_type": "code",
   "execution_count": 33,
   "id": "e14618c8",
   "metadata": {},
   "outputs": [],
   "source": [
    "df[\"gender_based_on_syllables_count\"] = df[\"syllable_count\"].apply(lambda x: \"M\" if x <=2.5 else \"F\")"
   ]
  },
  {
   "cell_type": "code",
   "execution_count": 34,
   "id": "225856e1",
   "metadata": {},
   "outputs": [
    {
     "data": {
      "text/plain": [
       "67.9803975704031"
      ]
     },
     "execution_count": 34,
     "metadata": {},
     "output_type": "execute_result"
    }
   ],
   "source": [
    "sum(df[\"gender\"] == df[\"gender_based_on_syllables_count\"])/ df.shape[0] * 100"
   ]
  },
  {
   "cell_type": "markdown",
   "id": "1f0a9eb5",
   "metadata": {},
   "source": [
    "<b> Improved, because females generally tend to have higher syllable. What if we go even higher?"
   ]
  },
  {
   "cell_type": "code",
   "execution_count": 35,
   "id": "a6ebc5c4",
   "metadata": {},
   "outputs": [],
   "source": [
    "threshold = []\n",
    "accuracy = []\n",
    "for i in np.arange(0, 4, 0.1): \n",
    "    df[\"gender_based_on_syllables_count\"] = df[\"syllable_count\"].apply(lambda x: \"M\" if x <=i else \"F\")\n",
    "    accuracy.append(sum(df[\"gender\"] == df[\"gender_based_on_syllables_count\"])/ df.shape[0] * 100)\n",
    "    threshold.append(i)"
   ]
  },
  {
   "cell_type": "code",
   "execution_count": 36,
   "id": "19120234",
   "metadata": {},
   "outputs": [
    {
     "data": {
      "text/plain": [
       "Text(0, 0.5, 'Accuracy')"
      ]
     },
     "execution_count": 36,
     "metadata": {},
     "output_type": "execute_result"
    },
    {
     "data": {
      "image/png": "[encoded data removed]",
      "text/plain": [
       "<Figure size 640x480 with 1 Axes>"
      ]
     },
     "metadata": {},
     "output_type": "display_data"
    }
   ],
   "source": [
    "sns.lineplot(x=threshold, y=accuracy, marker = \"o\", color='blue')\n",
    "plt.title(\"Syllable Threshold vs Accuracy\")\n",
    "plt.xlabel(\"Syllable Threshold\")\n",
    "plt.ylabel(\"Accuracy\")"
   ]
  },
  {
   "cell_type": "markdown",
   "id": "4bba4cd2",
   "metadata": {},
   "source": [
    "<b> Well, we get highest accuracy at 2.5. Let's keep it that way. Lets also combine this to the previous rule based method to see if we can increase the accuracy."
   ]
  },
  {
   "cell_type": "code",
   "execution_count": 37,
   "id": "43d82d66",
   "metadata": {
    "vscode": {
     "languageId": "ruby"
    }
   },
   "outputs": [
    {
     "data": {
      "text/plain": [
       "65.03313086692435"
      ]
     },
     "execution_count": 37,
     "metadata": {},
     "output_type": "execute_result"
    }
   ],
   "source": [
    "'''\n",
    "If last letter vowel: Female\n",
    "if first letter either A, M or S: female\n",
    "if syllable count > 2.5, then female/\n",
    "'''\n",
    "mask = df[\"is_last_letter_vowel\"] | df[\"is_first_letter_AMS\"] | (df[\"syllable_count\"] > 2.5)\n",
    "\n",
    "df['predicted_gender_combined'] = np.where(mask, 'F', 'M')\n",
    "\n",
    "sum(df[\"gender\"] == df[\"predicted_gender_combined\"]) / df.shape[0] * 100"
   ]
  },
  {
   "cell_type": "markdown",
   "id": "75f46c5a",
   "metadata": {},
   "source": [
    "<b> we know that females generally tend to have higher syllable count and females generally tend to have last letter vowel. What if we use those two only?"
   ]
  },
  {
   "cell_type": "code",
   "execution_count": 38,
   "id": "68261895",
   "metadata": {
    "vscode": {
     "languageId": "ruby"
    }
   },
   "outputs": [
    {
     "data": {
      "text/plain": [
       "68.74654886802871"
      ]
     },
     "execution_count": 38,
     "metadata": {},
     "output_type": "execute_result"
    }
   ],
   "source": [
    "mask = df[\"is_last_letter_vowel\"] & (df[\"syllable_count\"] > 2.5)\n",
    "\n",
    "df['predicted_gender_combined'] = np.where(mask, 'F', 'M')\n",
    "\n",
    "sum(df[\"gender\"] == df[\"predicted_gender_combined\"]) / df.shape[0] * 100"
   ]
  },
  {
   "cell_type": "code",
   "execution_count": 39,
   "id": "8969a37a",
   "metadata": {
    "vscode": {
     "languageId": "ruby"
    }
   },
   "outputs": [],
   "source": [
    "threshold = []\n",
    "accuracy = []\n",
    "for i in np.arange(0, 4, 0.1): \n",
    "    mask = df[\"is_last_letter_vowel\"] | (df[\"syllable_count\"] > i)\n",
    "    df['predicted_gender_combined'] = np.where(mask, 'F', 'M')\n",
    "    accuracy.append(sum(df[\"gender\"] == df[\"predicted_gender_combined\"]) / df.shape[0] * 100)\n",
    "    threshold.append(i)"
   ]
  },
  {
   "cell_type": "code",
   "execution_count": 40,
   "id": "2c116667",
   "metadata": {
    "vscode": {
     "languageId": "ruby"
    }
   },
   "outputs": [
    {
     "data": {
      "text/plain": [
       "Text(0, 0.5, 'Accuracy')"
      ]
     },
     "execution_count": 40,
     "metadata": {},
     "output_type": "execute_result"
    },
    {
     "data": {
      "image/png": "[encoded data removed]",
      "text/plain": [
       "<Figure size 640x480 with 1 Axes>"
      ]
     },
     "metadata": {},
     "output_type": "display_data"
    }
   ],
   "source": [
    "sns.lineplot(x=threshold, y=accuracy, marker = \"o\", color='blue')\n",
    "plt.title(\"Syllable Threshold vs Accuracy\")\n",
    "plt.xlabel(\"Syllable Threshold\")\n",
    "plt.ylabel(\"Accuracy\")"
   ]
  },
  {
   "cell_type": "code",
   "execution_count": 41,
   "id": "0a9e8b3d",
   "metadata": {
    "vscode": {
     "languageId": "ruby"
    }
   },
   "outputs": [
    {
     "data": {
      "text/plain": [
       "68.9812258420762"
      ]
     },
     "execution_count": 41,
     "metadata": {},
     "output_type": "execute_result"
    }
   ],
   "source": [
    "max(accuracy)"
   ]
  },
  {
   "cell_type": "markdown",
   "id": "02ed702e",
   "metadata": {},
   "source": [
    "Interesting. We have highest accuray of 68.98% when either last name is vowel or syllable count is greather than or equal to 3 for females./"
   ]
  },
  {
   "cell_type": "code",
   "execution_count": 42,
   "id": "faa12c6e",
   "metadata": {
    "vscode": {
     "languageId": "ruby"
    }
   },
   "outputs": [
    {
     "data": {
      "text/plain": [
       "68.9812258420762"
      ]
     },
     "execution_count": 42,
     "metadata": {},
     "output_type": "execute_result"
    }
   ],
   "source": [
    "mask = df[\"is_last_letter_vowel\"] | (df[\"syllable_count\"] > 3)\n",
    "df['predicted_gender_combined'] = np.where(mask, 'F', 'M')\n",
    "sum(df[\"gender\"] == df[\"predicted_gender_combined\"]) / df.shape[0] * 100"
   ]
  },
  {
   "cell_type": "markdown",
   "id": "fb104f70",
   "metadata": {},
   "source": [
    "<b> Finally, we will use this logic to finalize our code."
   ]
  },
  {
   "cell_type": "markdown",
   "id": "a25867b6",
   "metadata": {},
   "source": [
    "<b> We know for a fact that syllables count can somewhat make distinguishing male and female names sightly better. We will use these every time we try new techniques./"
   ]
  },
  {
   "cell_type": "markdown",
   "id": "c1fbd8e4",
   "metadata": {},
   "source": [
    "## Part2\n",
    "\n",
    "Write the inference function based on the findings..."
   ]
  },
  {
   "cell_type": "code",
   "execution_count": 43,
   "id": "3cfc4e5c",
   "metadata": {},
   "outputs": [
    {
     "name": "stdout",
     "output_type": "stream",
     "text": [
      "F\n"
     ]
    }
   ],
   "source": [
    "def predict_one(name): # <-- (Don't change the function signature) DO NOT CHANGE THIS LINE\n",
    "    # write your codes below this line....\n",
    "\n",
    "    '''\n",
    "    I just combined the logic developed in the earlier sections.\n",
    "    '''\n",
    "    name = name.lower()\n",
    "    # checking if the last digit of the provided name to the function is actually vowel or not\n",
    "    checking_if_last_letter_vowel_or_not = name[-1:] in 'aeiou'\n",
    "    \n",
    "    # checking number of syllable count\n",
    "    vowel_character = \"aeiouy\" \n",
    "    count = 0\n",
    "\n",
    "    # first charcter\n",
    "    first_character = name[0]\n",
    "    if first_character in vowel_character:\n",
    "        count += 1\n",
    "    \n",
    "    # checking for second to last second characters. \n",
    "    # According to the syllable count method, we know that if current character is a vowel -\n",
    "    # but the previous character is not a vowel, then it can be considered as a syllable\n",
    "    for i in range(1, len(name)):\n",
    "        if name[i] in vowel_character and name[i-1] not in vowel_character:\n",
    "            count += 1\n",
    "\n",
    "    \n",
    "    # check if the last character ends with one of the vowel characters. If so, \n",
    "    # then it is also a syllable\n",
    "    if name[-1] in vowel_character:\n",
    "        count += 1\n",
    "\n",
    "    # if none of the above conditions are met, then the name -\n",
    "    # - can be 1 syllable\n",
    "    if count == 0:\n",
    "        count = 1\n",
    "    \n",
    "    if checking_if_last_letter_vowel_or_not or count > 3:\n",
    "        return \"F\"\n",
    "    \n",
    "    return \"M\"\n",
    "   \n",
    "print(predict_one('Jasmine'))"
   ]
  },
  {
   "cell_type": "code",
   "execution_count": 44,
   "id": "3889bd65",
   "metadata": {},
   "outputs": [
    {
     "name": "stdout",
     "output_type": "stream",
     "text": [
      "Accuracy: 0.689812258420762\n"
     ]
    }
   ],
   "source": [
    "## DO NOT CHANGE ANYTHING IN THIS CELL!!!\n",
    "predictions = [ predict_one(name) for name in df.name]\n",
    "accuracy = sum(df.gender == predictions) / len(df)\n",
    "print(f\"Accuracy: {accuracy}\")"
   ]
  },
  {
   "cell_type": "code",
   "execution_count": 45,
   "id": "d5980182",
   "metadata": {},
   "outputs": [
    {
     "name": "stdout",
     "output_type": "stream",
     "text": [
      "M\n"
     ]
    }
   ],
   "source": [
    "print(predict_one(\"aees\"))"
   ]
  },
  {
   "cell_type": "code",
   "execution_count": null,
   "id": "e329529a",
   "metadata": {},
   "outputs": [],
   "source": []
  },
  {
   "cell_type": "markdown",
   "id": "be0dc662",
   "metadata": {},
   "source": [
    "## Part3 \n",
    "\n",
    "\n",
    "Write the above function in one of the following languages:\n",
    "1. javascript\n",
    "2. sql\n",
    "\n",
    "For javascript:\n",
    "\n",
    "The following is the starter code. \n",
    "\n",
    "* Open a new file in week3 folder name it `name_predictor.html`\n",
    "\n",
    "* Fill the `predictOne` function based on the function above\n",
    "\n",
    "* Save and double click on the html file to test it.\n"
   ]
  },
  {
   "cell_type": "raw",
   "id": "5488cbf8",
   "metadata": {},
   "source": [
    "<!DOCTYPE html>\n",
    "<html lang=\"en\">\n",
    "\n",
    "<head>\n",
    "    <title>Gender Prediction</title>\n",
    "    <!-- Bootstrap CSS -->\n",
    "    <link href=\"https://maxcdn.bootstrapcdn.com/bootstrap/4.5.2/css/bootstrap.min.css\" rel=\"stylesheet\">\n",
    "</head>\n",
    "\n",
    "<body class=\"container py-5\">\n",
    "\n",
    "    <div class=\"form-group\">\n",
    "        <label for=\"inputBox\" class=\"font-weight-bold\">Enter Name:</label>\n",
    "        <input type=\"text\" \n",
    "               id=\"inputBox\" \n",
    "               class=\"form-control\" \n",
    "               placeholder=\"Type name...\" \n",
    "               oninput=\"runInference()\">\n",
    "    </div>\n",
    "    <div id=\"result\" class=\"alert alert-info mt-3\">Prediction: </div>\n",
    "\n",
    "    <script>\n",
    "        function runInference() {\n",
    "            const input = document.getElementById('inputBox').value;\n",
    "            const prediction = predictOne(input);\n",
    "\n",
    "            document.getElementById('result').textContent = `Prediction: ${prediction}`;\n",
    "        }\n",
    "\n",
    "        function predictOne(name) {\n",
    "            if (typeof name !== 'string') return;\n",
    "            name = name.toLowerCase();\n",
    "            // enter your code here....\n",
    "\n",
    "            // sample - check if the last letter is a vowel\n",
    "            if (name.match(/[aeiou]$/)) {\n",
    "                return 'F';\n",
    "            }\n",
    "\n",
    "            return 'M';\n",
    "        }\n",
    "    </script>\n",
    "\n",
    "</body>\n",
    "\n",
    "</html>"
   ]
  },
  {
   "cell_type": "markdown",
   "id": "eca103ba-044a-423d-a131-f4bd5c26afd7",
   "metadata": {},
   "source": [
    "For sql:\n",
    "\n",
    "The following is a sample function code for postgres. \n",
    "If you don't have a database engine installed on your computer, you can use: https://onecompiler.com/\n",
    "\n",
    "If you already have a local server, use that to create a function that contains the logic you came up with.\n"
   ]
  },
  {
   "cell_type": "raw",
   "id": "a3cb2645-2b23-4d49-951f-7edbcbcfa2fd",
   "metadata": {},
   "source": [
    "CREATE OR REPLACE FUNCTION predict_gender(input_string TEXT)\n",
    "RETURNS TEXT AS $$\n",
    "BEGIN\n",
    "    if right(input_string,1) in ('a', 'e', 'i', 'o', 'u') then\n",
    "      RETURN 'F';\n",
    "    end if;\n",
    "    \n",
    "    RETURN 'M';\n",
    "END;\n",
    "$$ LANGUAGE plpgsql;\n",
    "\n",
    "\n",
    "select predict_gender('jack')"
   ]
  },
  {
   "cell_type": "code",
   "execution_count": null,
   "id": "a8b370d4-4a52-4a59-9a7f-c8c52e601b25",
   "metadata": {},
   "outputs": [],
   "source": []
  }
 ],
 "metadata": {
  "kernelspec": {
   "display_name": "geo_env",
   "language": "python",
   "name": "python3"
  },
  "language_info": {
   "codemirror_mode": {
    "name": "ipython",
    "version": 3
   },
   "file_extension": ".py",
   "mimetype": "text/x-python",
   "name": "python",
   "nbconvert_exporter": "python",
   "pygments_lexer": "ipython3",
   "version": "3.11.0"
  },
  "toc": {
   "base_numbering": 1,
   "nav_menu": {},
   "number_sections": true,
   "sideBar": true,
   "skip_h1_title": false,
   "title_cell": "Table of Contents",
   "title_sidebar": "Contents",
   "toc_cell": false,
   "toc_position": {},
   "toc_section_display": true,
   "toc_window_display": false
  }
 },
 "nbformat": 4,
 "nbformat_minor": 5
}
