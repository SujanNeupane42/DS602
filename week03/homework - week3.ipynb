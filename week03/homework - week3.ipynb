{
 "cells": [
  {
   "cell_type": "markdown",
   "id": "92665e74",
   "metadata": {},
   "source": [
    "# Week3 - Homework\n",
    "\n",
    "Write a rule based predictor for the dataset below. \n",
    "\n",
    "Choose one of the following datasets and do your EDA. \n",
    "Test your assumptions. \n",
    "\n",
    "Finally write your code in `predict_one` function. \n",
    "\n",
    "Do __NOT__ change the function signature! This function should only take name and return `F` or `M`"
   ]
  },
  {
   "cell_type": "code",
   "execution_count": 1,
   "id": "71cb00e3",
   "metadata": {
    "scrolled": true
   },
   "outputs": [
    {
     "name": "stdout",
     "output_type": "stream",
     "text": [
      "<class 'pandas.core.frame.DataFrame'>\n",
      "RangeIndex: 36277 entries, 0 to 36276\n",
      "Data columns (total 2 columns):\n",
      " #   Column  Non-Null Count  Dtype \n",
      "---  ------  --------------  ----- \n",
      " 0   name    36277 non-null  object\n",
      " 1   gender  36277 non-null  object\n",
      "dtypes: object(2)\n",
      "memory usage: 567.0+ KB\n"
     ]
    }
   ],
   "source": [
    "import pandas as pd\n",
    "import numpy as np\n",
    "from matplotlib import pyplot as plt\n",
    "import seaborn as sns\n",
    "\n",
    "us_names = 'https://raw.githubusercontent.com/msaricaumbc/DS_data/master/ds602/names/us_names.csv'\n",
    "\n",
    "df = pd.read_csv(us_names)\n",
    "df.dropna(inplace=True)\n",
    "df.info()"
   ]
  },
  {
   "cell_type": "code",
   "execution_count": 2,
   "id": "03ad628a",
   "metadata": {},
   "outputs": [
    {
     "data": {
      "text/plain": [
       "gender\n",
       "F    21789\n",
       "M    14488\n",
       "Name: count, dtype: int64"
      ]
     },
     "execution_count": 2,
     "metadata": {},
     "output_type": "execute_result"
    }
   ],
   "source": [
    "df.gender.value_counts()"
   ]
  },
  {
   "cell_type": "markdown",
   "id": "3065ca7f",
   "metadata": {},
   "source": [
    "Not balanced! For simplicity, let's create a sub sample that will contains equal F and M."
   ]
  },
  {
   "cell_type": "code",
   "execution_count": 3,
   "id": "f042ada9",
   "metadata": {},
   "outputs": [],
   "source": [
    "min_count = min(df['gender'].value_counts())\n",
    "\n",
    "df_f = df[df['gender'] == 'F'].sample(min_count, random_state=42)\n",
    "df_m = df[df['gender'] == 'M'].sample(min_count, random_state=42)\n",
    "\n",
    "df = pd.concat([df_f, df_m]).reset_index(drop=True)"
   ]
  },
  {
   "cell_type": "code",
   "execution_count": 4,
   "id": "d88a3635",
   "metadata": {},
   "outputs": [
    {
     "data": {
      "text/plain": [
       "gender\n",
       "F    14488\n",
       "M    14488\n",
       "Name: count, dtype: int64"
      ]
     },
     "execution_count": 4,
     "metadata": {},
     "output_type": "execute_result"
    }
   ],
   "source": [
    "df.gender.value_counts()"
   ]
  },
  {
   "cell_type": "code",
   "execution_count": 5,
   "id": "e04e6545",
   "metadata": {},
   "outputs": [
    {
     "data": {
      "text/html": [
       "<div>\n",
       "<style scoped>\n",
       "    .dataframe tbody tr th:only-of-type {\n",
       "        vertical-align: middle;\n",
       "    }\n",
       "\n",
       "    .dataframe tbody tr th {\n",
       "        vertical-align: top;\n",
       "    }\n",
       "\n",
       "    .dataframe thead th {\n",
       "        text-align: right;\n",
       "    }\n",
       "</style>\n",
       "<table border=\"1\" class=\"dataframe\">\n",
       "  <thead>\n",
       "    <tr style=\"text-align: right;\">\n",
       "      <th></th>\n",
       "      <th>name</th>\n",
       "      <th>gender</th>\n",
       "    </tr>\n",
       "  </thead>\n",
       "  <tbody>\n",
       "    <tr>\n",
       "      <th>0</th>\n",
       "      <td>Brennen</td>\n",
       "      <td>F</td>\n",
       "    </tr>\n",
       "    <tr>\n",
       "      <th>1</th>\n",
       "      <td>Chikaima</td>\n",
       "      <td>F</td>\n",
       "    </tr>\n",
       "    <tr>\n",
       "      <th>2</th>\n",
       "      <td>Zoejane</td>\n",
       "      <td>F</td>\n",
       "    </tr>\n",
       "    <tr>\n",
       "      <th>3</th>\n",
       "      <td>Teegan</td>\n",
       "      <td>F</td>\n",
       "    </tr>\n",
       "    <tr>\n",
       "      <th>4</th>\n",
       "      <td>Alanda</td>\n",
       "      <td>F</td>\n",
       "    </tr>\n",
       "  </tbody>\n",
       "</table>\n",
       "</div>"
      ],
      "text/plain": [
       "       name gender\n",
       "0   Brennen      F\n",
       "1  Chikaima      F\n",
       "2   Zoejane      F\n",
       "3    Teegan      F\n",
       "4    Alanda      F"
      ]
     },
     "execution_count": 5,
     "metadata": {},
     "output_type": "execute_result"
    }
   ],
   "source": [
    "df.head()"
   ]
  },
  {
   "cell_type": "markdown",
   "id": "96ce8445",
   "metadata": {},
   "source": [
    "## Part1:\n",
    "\n",
    "Run experiments to select which rules are good seperator for gender."
   ]
  },
  {
   "cell_type": "markdown",
   "id": "8c95c921",
   "metadata": {},
   "source": [
    "### Two examples:"
   ]
  },
  {
   "cell_type": "markdown",
   "id": "ec8b67c5",
   "metadata": {},
   "source": [
    "### 1. Example 1 based on vowel letters"
   ]
  },
  {
   "cell_type": "code",
   "execution_count": 6,
   "id": "88d552f1",
   "metadata": {},
   "outputs": [],
   "source": [
    "# checking if the last digit is actually vowel or not\n",
    "df['is_last_letter_vowel'] = [  name[-1:] in 'aeiou' for name in df.name]"
   ]
  },
  {
   "cell_type": "code",
   "execution_count": 7,
   "id": "f8ceae9e",
   "metadata": {},
   "outputs": [
    {
     "data": {
      "text/html": [
       "<div>\n",
       "<style scoped>\n",
       "    .dataframe tbody tr th:only-of-type {\n",
       "        vertical-align: middle;\n",
       "    }\n",
       "\n",
       "    .dataframe tbody tr th {\n",
       "        vertical-align: top;\n",
       "    }\n",
       "\n",
       "    .dataframe thead th {\n",
       "        text-align: right;\n",
       "    }\n",
       "</style>\n",
       "<table border=\"1\" class=\"dataframe\">\n",
       "  <thead>\n",
       "    <tr style=\"text-align: right;\">\n",
       "      <th></th>\n",
       "      <th>name</th>\n",
       "      <th>gender</th>\n",
       "      <th>is_last_letter_vowel</th>\n",
       "    </tr>\n",
       "  </thead>\n",
       "  <tbody>\n",
       "    <tr>\n",
       "      <th>0</th>\n",
       "      <td>Brennen</td>\n",
       "      <td>F</td>\n",
       "      <td>False</td>\n",
       "    </tr>\n",
       "    <tr>\n",
       "      <th>1</th>\n",
       "      <td>Chikaima</td>\n",
       "      <td>F</td>\n",
       "      <td>True</td>\n",
       "    </tr>\n",
       "    <tr>\n",
       "      <th>2</th>\n",
       "      <td>Zoejane</td>\n",
       "      <td>F</td>\n",
       "      <td>True</td>\n",
       "    </tr>\n",
       "    <tr>\n",
       "      <th>3</th>\n",
       "      <td>Teegan</td>\n",
       "      <td>F</td>\n",
       "      <td>False</td>\n",
       "    </tr>\n",
       "    <tr>\n",
       "      <th>4</th>\n",
       "      <td>Alanda</td>\n",
       "      <td>F</td>\n",
       "      <td>True</td>\n",
       "    </tr>\n",
       "    <tr>\n",
       "      <th>...</th>\n",
       "      <td>...</td>\n",
       "      <td>...</td>\n",
       "      <td>...</td>\n",
       "    </tr>\n",
       "    <tr>\n",
       "      <th>28971</th>\n",
       "      <td>Arther</td>\n",
       "      <td>M</td>\n",
       "      <td>False</td>\n",
       "    </tr>\n",
       "    <tr>\n",
       "      <th>28972</th>\n",
       "      <td>Jamani</td>\n",
       "      <td>M</td>\n",
       "      <td>True</td>\n",
       "    </tr>\n",
       "    <tr>\n",
       "      <th>28973</th>\n",
       "      <td>Mickeal</td>\n",
       "      <td>M</td>\n",
       "      <td>False</td>\n",
       "    </tr>\n",
       "    <tr>\n",
       "      <th>28974</th>\n",
       "      <td>Chad</td>\n",
       "      <td>M</td>\n",
       "      <td>False</td>\n",
       "    </tr>\n",
       "    <tr>\n",
       "      <th>28975</th>\n",
       "      <td>Leory</td>\n",
       "      <td>M</td>\n",
       "      <td>False</td>\n",
       "    </tr>\n",
       "  </tbody>\n",
       "</table>\n",
       "<p>28976 rows × 3 columns</p>\n",
       "</div>"
      ],
      "text/plain": [
       "           name gender  is_last_letter_vowel\n",
       "0       Brennen      F                 False\n",
       "1      Chikaima      F                  True\n",
       "2       Zoejane      F                  True\n",
       "3        Teegan      F                 False\n",
       "4        Alanda      F                  True\n",
       "...         ...    ...                   ...\n",
       "28971    Arther      M                 False\n",
       "28972    Jamani      M                  True\n",
       "28973   Mickeal      M                 False\n",
       "28974      Chad      M                 False\n",
       "28975     Leory      M                 False\n",
       "\n",
       "[28976 rows x 3 columns]"
      ]
     },
     "execution_count": 7,
     "metadata": {},
     "output_type": "execute_result"
    }
   ],
   "source": [
    "df"
   ]
  },
  {
   "cell_type": "code",
   "execution_count": 8,
   "id": "50fcd092",
   "metadata": {},
   "outputs": [
    {
     "data": {
      "text/plain": [
       "<AxesSubplot: xlabel='is_last_letter_vowel', ylabel='count'>"
      ]
     },
     "execution_count": 8,
     "metadata": {},
     "output_type": "execute_result"
    },
    {
     "data": {
      "image/png": "[encoded data removed]",
      "text/plain": [
       "<Figure size 640x480 with 1 Axes>"
      ]
     },
     "metadata": {},
     "output_type": "display_data"
    }
   ],
   "source": [
    "import seaborn as sns\n",
    "\n",
    "sns.countplot(data = df, x = 'is_last_letter_vowel', hue = 'gender')"
   ]
  },
  {
   "cell_type": "markdown",
   "id": "e56ef9cd",
   "metadata": {},
   "source": [
    "Majority of Women seem to have vowel in their last character of name. Lets check accuracy for a rule-based approach with this technique"
   ]
  },
  {
   "cell_type": "code",
   "execution_count": 9,
   "id": "909a01a9",
   "metadata": {},
   "outputs": [],
   "source": [
    "is_vowel = df[\"is_last_letter_vowel\"]"
   ]
  },
  {
   "cell_type": "code",
   "execution_count": 10,
   "id": "6edc4b19",
   "metadata": {},
   "outputs": [],
   "source": [
    "df['predicted_gender'] = np.where(is_vowel, 'F', 'M')"
   ]
  },
  {
   "cell_type": "code",
   "execution_count": 11,
   "id": "ba0cec62",
   "metadata": {},
   "outputs": [
    {
     "data": {
      "text/plain": [
       "68.8017669795693"
      ]
     },
     "execution_count": 11,
     "metadata": {},
     "output_type": "execute_result"
    }
   ],
   "source": [
    "sum(df[\"gender\"] == df[\"predicted_gender\"])/ df.shape[0] * 100"
   ]
  },
  {
   "cell_type": "markdown",
   "id": "f934379b",
   "metadata": {},
   "source": [
    "By just checking whether the ending is vowel or not, we were able to increaes accuracy from 50% to almost 69%"
   ]
  },
  {
   "cell_type": "markdown",
   "id": "0cd7e3f7",
   "metadata": {},
   "source": [
    "### 2. Second Example based on the length of name"
   ]
  },
  {
   "cell_type": "code",
   "execution_count": 12,
   "id": "0822aff7",
   "metadata": {},
   "outputs": [
    {
     "data": {
      "text/plain": [
       "<AxesSubplot: xlabel='len', ylabel='count'>"
      ]
     },
     "execution_count": 12,
     "metadata": {},
     "output_type": "execute_result"
    },
    {
     "data": {
      "image/png": "[encoded data removed]",
      "text/plain": [
       "<Figure size 640x480 with 1 Axes>"
      ]
     },
     "metadata": {},
     "output_type": "display_data"
    }
   ],
   "source": [
    "df['len'] = [ len(name) for name in df.name]\n",
    "sns.countplot(data = df, x = 'len', hue = 'gender')"
   ]
  },
  {
   "cell_type": "markdown",
   "id": "b036375f",
   "metadata": {},
   "source": [
    "Seems like length doesn't also seem like a good separator"
   ]
  },
  {
   "cell_type": "markdown",
   "id": "6195c0c4",
   "metadata": {},
   "source": [
    "### 3. Let's check  based on the First character of the Name"
   ]
  },
  {
   "cell_type": "code",
   "execution_count": 13,
   "id": "80c45d74",
   "metadata": {},
   "outputs": [],
   "source": [
    "df = df[[\"name\", \"gender\", \"is_last_letter_vowel\", \"predicted_gender\"]]"
   ]
  },
  {
   "cell_type": "code",
   "execution_count": 14,
   "id": "78389a92",
   "metadata": {},
   "outputs": [],
   "source": [
    "# lets look at the distribution of names by first letter but also at the same time their gender.\n",
    "# I know from personal experience that female names tend to start a lot with A, M, S, (Asmita, Manisha, Sunita) They are my sisters back in Nepal actually.\n",
    "df['first_letter'] = df['name'].str[0]"
   ]
  },
  {
   "cell_type": "code",
   "execution_count": 15,
   "id": "6dc0e92d",
   "metadata": {},
   "outputs": [
    {
     "data": {
      "text/plain": [
       "first_letter\n",
       "A    3114\n",
       "J    2243\n",
       "M    2219\n",
       "S    2218\n",
       "K    2151\n",
       "D    1799\n",
       "C    1712\n",
       "L    1578\n",
       "T    1540\n",
       "R    1395\n",
       "E    1259\n",
       "B    1190\n",
       "N     976\n",
       "H     813\n",
       "G     759\n",
       "Y     532\n",
       "P     513\n",
       "I     504\n",
       "Z     488\n",
       "V     466\n",
       "F     440\n",
       "O     428\n",
       "W     352\n",
       "Q     124\n",
       "X      83\n",
       "U      80\n",
       "Name: count, dtype: int64"
      ]
     },
     "execution_count": 15,
     "metadata": {},
     "output_type": "execute_result"
    }
   ],
   "source": [
    "df['first_letter'].value_counts()"
   ]
  },
  {
   "cell_type": "markdown",
   "id": "1bc97a2c",
   "metadata": {},
   "source": [
    "<b> As I thought, A, M and S are most prominent for first character in female names. lets look at the plot"
   ]
  },
  {
   "cell_type": "code",
   "execution_count": 16,
   "id": "740d538a",
   "metadata": {},
   "outputs": [
    {
     "data": {
      "image/png": "[encoded data removed]",
      "text/plain": [
       "<Figure size 1200x600 with 1 Axes>"
      ]
     },
     "metadata": {},
     "output_type": "display_data"
    }
   ],
   "source": [
    "plt.figure(figsize=(12, 6))\n",
    "sns.countplot(data=df, x='first_letter', hue='gender', order=sorted(df['first_letter'].unique()))\n",
    "plt.title('Barplot For Gender Distribution by First Letter of Name')\n",
    "plt.show()"
   ]
  },
  {
   "cell_type": "markdown",
   "id": "c8d0a7fc",
   "metadata": {},
   "source": [
    "This is interesting. What if we select top 3 cases (A, M and S) and just make any name that start with these characters as Female, and anyone with their name ends with AEIOU (vowel characters) as Female and rest as male. Also, lets check accuracy for that"
   ]
  },
  {
   "cell_type": "code",
   "execution_count": 17,
   "id": "ec66dc4a",
   "metadata": {},
   "outputs": [
    {
     "data": {
      "text/html": [
       "<div>\n",
       "<style scoped>\n",
       "    .dataframe tbody tr th:only-of-type {\n",
       "        vertical-align: middle;\n",
       "    }\n",
       "\n",
       "    .dataframe tbody tr th {\n",
       "        vertical-align: top;\n",
       "    }\n",
       "\n",
       "    .dataframe thead th {\n",
       "        text-align: right;\n",
       "    }\n",
       "</style>\n",
       "<table border=\"1\" class=\"dataframe\">\n",
       "  <thead>\n",
       "    <tr style=\"text-align: right;\">\n",
       "      <th></th>\n",
       "      <th>name</th>\n",
       "      <th>gender</th>\n",
       "      <th>is_last_letter_vowel</th>\n",
       "      <th>predicted_gender</th>\n",
       "      <th>first_letter</th>\n",
       "    </tr>\n",
       "  </thead>\n",
       "  <tbody>\n",
       "    <tr>\n",
       "      <th>0</th>\n",
       "      <td>Brennen</td>\n",
       "      <td>F</td>\n",
       "      <td>False</td>\n",
       "      <td>M</td>\n",
       "      <td>B</td>\n",
       "    </tr>\n",
       "    <tr>\n",
       "      <th>1</th>\n",
       "      <td>Chikaima</td>\n",
       "      <td>F</td>\n",
       "      <td>True</td>\n",
       "      <td>F</td>\n",
       "      <td>C</td>\n",
       "    </tr>\n",
       "    <tr>\n",
       "      <th>2</th>\n",
       "      <td>Zoejane</td>\n",
       "      <td>F</td>\n",
       "      <td>True</td>\n",
       "      <td>F</td>\n",
       "      <td>Z</td>\n",
       "    </tr>\n",
       "    <tr>\n",
       "      <th>3</th>\n",
       "      <td>Teegan</td>\n",
       "      <td>F</td>\n",
       "      <td>False</td>\n",
       "      <td>M</td>\n",
       "      <td>T</td>\n",
       "    </tr>\n",
       "    <tr>\n",
       "      <th>4</th>\n",
       "      <td>Alanda</td>\n",
       "      <td>F</td>\n",
       "      <td>True</td>\n",
       "      <td>F</td>\n",
       "      <td>A</td>\n",
       "    </tr>\n",
       "    <tr>\n",
       "      <th>...</th>\n",
       "      <td>...</td>\n",
       "      <td>...</td>\n",
       "      <td>...</td>\n",
       "      <td>...</td>\n",
       "      <td>...</td>\n",
       "    </tr>\n",
       "    <tr>\n",
       "      <th>28971</th>\n",
       "      <td>Arther</td>\n",
       "      <td>M</td>\n",
       "      <td>False</td>\n",
       "      <td>M</td>\n",
       "      <td>A</td>\n",
       "    </tr>\n",
       "    <tr>\n",
       "      <th>28972</th>\n",
       "      <td>Jamani</td>\n",
       "      <td>M</td>\n",
       "      <td>True</td>\n",
       "      <td>F</td>\n",
       "      <td>J</td>\n",
       "    </tr>\n",
       "    <tr>\n",
       "      <th>28973</th>\n",
       "      <td>Mickeal</td>\n",
       "      <td>M</td>\n",
       "      <td>False</td>\n",
       "      <td>M</td>\n",
       "      <td>M</td>\n",
       "    </tr>\n",
       "    <tr>\n",
       "      <th>28974</th>\n",
       "      <td>Chad</td>\n",
       "      <td>M</td>\n",
       "      <td>False</td>\n",
       "      <td>M</td>\n",
       "      <td>C</td>\n",
       "    </tr>\n",
       "    <tr>\n",
       "      <th>28975</th>\n",
       "      <td>Leory</td>\n",
       "      <td>M</td>\n",
       "      <td>False</td>\n",
       "      <td>M</td>\n",
       "      <td>L</td>\n",
       "    </tr>\n",
       "  </tbody>\n",
       "</table>\n",
       "<p>28976 rows × 5 columns</p>\n",
       "</div>"
      ],
      "text/plain": [
       "           name gender  is_last_letter_vowel predicted_gender first_letter\n",
       "0       Brennen      F                 False                M            B\n",
       "1      Chikaima      F                  True                F            C\n",
       "2       Zoejane      F                  True                F            Z\n",
       "3        Teegan      F                 False                M            T\n",
       "4        Alanda      F                  True                F            A\n",
       "...         ...    ...                   ...              ...          ...\n",
       "28971    Arther      M                 False                M            A\n",
       "28972    Jamani      M                  True                F            J\n",
       "28973   Mickeal      M                 False                M            M\n",
       "28974      Chad      M                 False                M            C\n",
       "28975     Leory      M                 False                M            L\n",
       "\n",
       "[28976 rows x 5 columns]"
      ]
     },
     "execution_count": 17,
     "metadata": {},
     "output_type": "execute_result"
    }
   ],
   "source": [
    "df"
   ]
  },
  {
   "cell_type": "code",
   "execution_count": 18,
   "id": "4fdfb7c7",
   "metadata": {},
   "outputs": [],
   "source": [
    "df['is_first_letter_AMS'] = df['first_letter'].apply(lambda x : x[0] in 'AMS')"
   ]
  },
  {
   "cell_type": "code",
   "execution_count": 19,
   "id": "ef49dc63",
   "metadata": {},
   "outputs": [],
   "source": [
    "is_vowel_or_AMS = df[\"is_last_letter_vowel\"] | df[\"is_first_letter_AMS\"]"
   ]
  },
  {
   "cell_type": "code",
   "execution_count": 20,
   "id": "666a4b5a",
   "metadata": {},
   "outputs": [],
   "source": [
    "df['predicted_gender'] = np.where(is_vowel_or_AMS, 'F', 'M')"
   ]
  },
  {
   "cell_type": "code",
   "execution_count": 21,
   "id": "fe94bcbe",
   "metadata": {},
   "outputs": [
    {
     "data": {
      "text/plain": [
       "66.12368856985091"
      ]
     },
     "execution_count": 21,
     "metadata": {},
     "output_type": "execute_result"
    }
   ],
   "source": [
    "sum(df[\"gender\"] == df[\"predicted_gender\"])/ df.shape[0] * 100"
   ]
  },
  {
   "cell_type": "markdown",
   "id": "8fb134f7",
   "metadata": {},
   "source": [
    "### 4. Consonant and Vowel Count Based Name Classification."
   ]
  },
  {
   "cell_type": "code",
   "execution_count": 22,
   "id": "d93de4a5",
   "metadata": {},
   "outputs": [],
   "source": [
    "# get the count of available vowel characters in the name column\n",
    "df[\"Vowel_Count\"] = df[\"name\"].apply(lambda x: sum([1 for i in x if i in 'aeiou']))\n",
    "\n",
    "# get the count of available consonant characters in the name column\n",
    "df[\"Consonant_Count\"] = df[\"name\"].apply(lambda x: sum([1 for i in x if i not in 'aeiou']))"
   ]
  },
  {
   "cell_type": "code",
   "execution_count": 23,
   "id": "7864c483",
   "metadata": {},
   "outputs": [
    {
     "data": {
      "text/html": [
       "<div>\n",
       "<style scoped>\n",
       "    .dataframe tbody tr th:only-of-type {\n",
       "        vertical-align: middle;\n",
       "    }\n",
       "\n",
       "    .dataframe tbody tr th {\n",
       "        vertical-align: top;\n",
       "    }\n",
       "\n",
       "    .dataframe thead th {\n",
       "        text-align: right;\n",
       "    }\n",
       "</style>\n",
       "<table border=\"1\" class=\"dataframe\">\n",
       "  <thead>\n",
       "    <tr style=\"text-align: right;\">\n",
       "      <th></th>\n",
       "      <th>name</th>\n",
       "      <th>gender</th>\n",
       "      <th>is_last_letter_vowel</th>\n",
       "      <th>predicted_gender</th>\n",
       "      <th>first_letter</th>\n",
       "      <th>is_first_letter_AMS</th>\n",
       "      <th>Vowel_Count</th>\n",
       "      <th>Consonant_Count</th>\n",
       "    </tr>\n",
       "  </thead>\n",
       "  <tbody>\n",
       "    <tr>\n",
       "      <th>0</th>\n",
       "      <td>Brennen</td>\n",
       "      <td>F</td>\n",
       "      <td>False</td>\n",
       "      <td>M</td>\n",
       "      <td>B</td>\n",
       "      <td>False</td>\n",
       "      <td>2</td>\n",
       "      <td>5</td>\n",
       "    </tr>\n",
       "    <tr>\n",
       "      <th>1</th>\n",
       "      <td>Chikaima</td>\n",
       "      <td>F</td>\n",
       "      <td>True</td>\n",
       "      <td>F</td>\n",
       "      <td>C</td>\n",
       "      <td>False</td>\n",
       "      <td>4</td>\n",
       "      <td>4</td>\n",
       "    </tr>\n",
       "    <tr>\n",
       "      <th>2</th>\n",
       "      <td>Zoejane</td>\n",
       "      <td>F</td>\n",
       "      <td>True</td>\n",
       "      <td>F</td>\n",
       "      <td>Z</td>\n",
       "      <td>False</td>\n",
       "      <td>4</td>\n",
       "      <td>3</td>\n",
       "    </tr>\n",
       "    <tr>\n",
       "      <th>3</th>\n",
       "      <td>Teegan</td>\n",
       "      <td>F</td>\n",
       "      <td>False</td>\n",
       "      <td>M</td>\n",
       "      <td>T</td>\n",
       "      <td>False</td>\n",
       "      <td>3</td>\n",
       "      <td>3</td>\n",
       "    </tr>\n",
       "    <tr>\n",
       "      <th>4</th>\n",
       "      <td>Alanda</td>\n",
       "      <td>F</td>\n",
       "      <td>True</td>\n",
       "      <td>F</td>\n",
       "      <td>A</td>\n",
       "      <td>True</td>\n",
       "      <td>2</td>\n",
       "      <td>4</td>\n",
       "    </tr>\n",
       "  </tbody>\n",
       "</table>\n",
       "</div>"
      ],
      "text/plain": [
       "       name gender  is_last_letter_vowel predicted_gender first_letter  \\\n",
       "0   Brennen      F                 False                M            B   \n",
       "1  Chikaima      F                  True                F            C   \n",
       "2   Zoejane      F                  True                F            Z   \n",
       "3    Teegan      F                 False                M            T   \n",
       "4    Alanda      F                  True                F            A   \n",
       "\n",
       "   is_first_letter_AMS  Vowel_Count  Consonant_Count  \n",
       "0                False            2                5  \n",
       "1                False            4                4  \n",
       "2                False            4                3  \n",
       "3                False            3                3  \n",
       "4                 True            2                4  "
      ]
     },
     "execution_count": 23,
     "metadata": {},
     "output_type": "execute_result"
    }
   ],
   "source": [
    "df.head()"
   ]
  },
  {
   "cell_type": "code",
   "execution_count": 24,
   "id": "e5810fdd",
   "metadata": {},
   "outputs": [
    {
     "data": {
      "image/png": "[encoded data removed]",
      "text/plain": [
       "<Figure size 1200x600 with 1 Axes>"
      ]
     },
     "metadata": {},
     "output_type": "display_data"
    }
   ],
   "source": [
    "plt.figure(figsize=(12, 6))\n",
    "sns.boxplot(x='gender', y= \"Vowel_Count\", data=df)\n",
    "plt.title('Distribution of Vowel Count With Respect to Gender')\n",
    "plt.xlabel(\"Gender\")\n",
    "plt.ylabel(\"Number of Vowel Characters in Name\")\n",
    "plt.show()"
   ]
  },
  {
   "cell_type": "markdown",
   "id": "e9098a77",
   "metadata": {},
   "source": [
    "Well, there does not seem to be much of a relation between the number of vowel characters and the name for either of the gender. So, this is not really useful. Lets check for consonants."
   ]
  },
  {
   "cell_type": "code",
   "execution_count": 25,
   "id": "fc9dffa1",
   "metadata": {},
   "outputs": [
    {
     "data": {
      "image/png": "[encoded data removed]",
      "text/plain": [
       "<Figure size 1200x600 with 1 Axes>"
      ]
     },
     "metadata": {},
     "output_type": "display_data"
    }
   ],
   "source": [
    "plt.figure(figsize=(12, 6))\n",
    "sns.boxplot(x='gender', y= \"Consonant_Count\", data=df)\n",
    "plt.title('Distribution of Consonant Count With Respect to Gender')\n",
    "plt.xlabel(\"Gender\")\n",
    "plt.ylabel(\"Number of Consonant Characters in Name\")\n",
    "plt.show()"
   ]
  },
  {
   "cell_type": "markdown",
   "id": "f11c8577",
   "metadata": {},
   "source": [
    "Well, there does not seem to be much of a relation between the number of Consonant characters and the name for either of the gender. So, this is not really useful as well. Let's explore other techniques."
   ]
  },
  {
   "cell_type": "markdown",
   "id": "a28c56aa",
   "metadata": {},
   "source": [
    "# 5. Syllables Count Vs Gender\n",
    "\n",
    "Lets check the syllables each name has and check if there is a relationship"
   ]
  },
  {
   "cell_type": "code",
   "execution_count": 26,
   "id": "51be0006",
   "metadata": {},
   "outputs": [],
   "source": [
    "'''\n",
    "This functionn, by no means is perfect. I found a great reference starting point from the following stack overflow quesiton:\n",
    "https://stackoverflow.com/questions/46759492/syllable-count-in-python\n",
    "'''\n",
    "\n",
    "# y can be considered a vowel when pronouncing a name\n",
    "# for instance,  Emily, Lily, Mary, etc.\n",
    "# Em, i, ly (here, y sounds liks a vowel as i or e emili or emilie. So, for the purpose of counting syllables, - \n",
    "# i will use y as a vowel as well\n",
    "vowel_character = \"aeiouy\" \n",
    "\n",
    "def get_syllable_count(name):\n",
    "    count = 0\n",
    "\n",
    "    # first charcter\n",
    "    first_character = name[0]\n",
    "    if first_character in vowel_character:\n",
    "        count += 1\n",
    "    \n",
    "    # checking for second to last second characters. \n",
    "    # According to the syllable count method, we know that if current character is a vowel -\n",
    "    # but the previous character is not a vowel, then it can be considered as a syllable\n",
    "    for i in range(1, len(name)):\n",
    "        if name[i] in vowel_character and name[i-1] not in vowel_character:\n",
    "            count += 1\n",
    "\n",
    "    \n",
    "    # check if the last character ends with one of the vowel characters. If so, \n",
    "    # then it is also a syllable\n",
    "    if name[-1] in vowel_character:\n",
    "        count += 1\n",
    "\n",
    "    # if none of the above conditions are met, then the name -\n",
    "    # - can be 1 syllable\n",
    "    if count == 0:\n",
    "        return 1\n",
    "    \n",
    "    return count"
   ]
  },
  {
   "cell_type": "code",
   "execution_count": 27,
   "id": "259a0970",
   "metadata": {},
   "outputs": [],
   "source": [
    "# counting the syllable\n",
    "df[\"syllable_count\"] = df[\"name\"].apply(get_syllable_count)"
   ]
  },
  {
   "cell_type": "code",
   "execution_count": 28,
   "id": "fa5bb812",
   "metadata": {},
   "outputs": [
    {
     "data": {
      "image/png": "[encoded data removed]",
      "text/plain": [
       "<Figure size 1200x600 with 1 Axes>"
      ]
     },
     "metadata": {},
     "output_type": "display_data"
    }
   ],
   "source": [
    "plt.figure(figsize=(12, 6))\n",
    "sns.boxplot(x='gender', y='syllable_count', data=df, color='red')\n",
    "plt.title('Distribution of Syllables with respect to the gender')\n",
    "plt.xlabel('Gender')\n",
    "plt.ylabel('Count of available syllables in the name')\n",
    "plt.show()"
   ]
  },
  {
   "cell_type": "markdown",
   "id": "272a4950",
   "metadata": {},
   "source": [
    "Interesting. If we look at the boxplot properly, the median of the female syllable count is even bigger than 3rd quartile of the syllable count of men. Which means, top 50% of the female names had higher syllable count than the 75% of the male names.\n",
    "\n",
    "<b> From the boxplot, we can also see that males generally tend to have less than 3 syllable count. We could use this threshold to determine gender, given a name. Lets try this"
   ]
  },
  {
   "cell_type": "code",
   "execution_count": 29,
   "id": "de1b3679",
   "metadata": {},
   "outputs": [],
   "source": [
    "df[\"gender_based_on_syllables_count\"] = df[\"syllable_count\"].apply(lambda x: \"M\" if x <=3 else \"F\")"
   ]
  },
  {
   "cell_type": "code",
   "execution_count": 30,
   "id": "12d38a9c",
   "metadata": {},
   "outputs": [
    {
     "data": {
      "text/plain": [
       "59.58034235229155"
      ]
     },
     "execution_count": 30,
     "metadata": {},
     "output_type": "execute_result"
    }
   ],
   "source": [
    "sum(df[\"gender\"] == df[\"gender_based_on_syllables_count\"])/ df.shape[0] * 100"
   ]
  },
  {
   "cell_type": "markdown",
   "id": "2930feb0",
   "metadata": {},
   "source": [
    "<b> Well, that actually bad. Lets make the threshold stricter."
   ]
  },
  {
   "cell_type": "code",
   "execution_count": 31,
   "id": "e14618c8",
   "metadata": {},
   "outputs": [],
   "source": [
    "df[\"gender_based_on_syllables_count\"] = df[\"syllable_count\"].apply(lambda x: \"M\" if x <=2.5 else \"F\")"
   ]
  },
  {
   "cell_type": "code",
   "execution_count": 32,
   "id": "225856e1",
   "metadata": {},
   "outputs": [
    {
     "data": {
      "text/plain": [
       "67.73191606847045"
      ]
     },
     "execution_count": 32,
     "metadata": {},
     "output_type": "execute_result"
    }
   ],
   "source": [
    "sum(df[\"gender\"] == df[\"gender_based_on_syllables_count\"])/ df.shape[0] * 100"
   ]
  },
  {
   "cell_type": "markdown",
   "id": "1f0a9eb5",
   "metadata": {},
   "source": [
    "<b> Improved, because females generally tend to have higher syllable. What if we go even higher?"
   ]
  },
  {
   "cell_type": "code",
   "execution_count": 33,
   "id": "a6ebc5c4",
   "metadata": {},
   "outputs": [],
   "source": [
    "threshold = []\n",
    "accuracy = []\n",
    "for i in np.arange(0, 4, 0.1): \n",
    "    df[\"gender_based_on_syllables_count\"] = df[\"syllable_count\"].apply(lambda x: \"M\" if x <=i else \"F\")\n",
    "    accuracy.append(sum(df[\"gender\"] == df[\"gender_based_on_syllables_count\"])/ df.shape[0] * 100)\n",
    "    threshold.append(i)"
   ]
  },
  {
   "cell_type": "code",
   "execution_count": 34,
   "id": "19120234",
   "metadata": {},
   "outputs": [
    {
     "data": {
      "text/plain": [
       "Text(0, 0.5, 'Accuracy')"
      ]
     },
     "execution_count": 34,
     "metadata": {},
     "output_type": "execute_result"
    },
    {
     "data": {
      "image/png": "[encoded data removed]",
      "text/plain": [
       "<Figure size 640x480 with 1 Axes>"
      ]
     },
     "metadata": {},
     "output_type": "display_data"
    }
   ],
   "source": [
    "sns.lineplot(x=threshold, y=accuracy, marker = \"o\", color='blue')\n",
    "plt.title(\"Syllable Threshold vs Accuracy\")\n",
    "plt.xlabel(\"Syllable Threshold\")\n",
    "plt.ylabel(\"Accuracy\")"
   ]
  },
  {
   "cell_type": "markdown",
   "id": "4bba4cd2",
   "metadata": {},
   "source": [
    "<b> Well, we get highest accuracy at 2.5. Let's keep it that way. Lets also combine this to the previous rule based method to see if we can increase the accuracy."
   ]
  },
  {
   "cell_type": "code",
   "execution_count": 35,
   "id": "ba9a61d1",
   "metadata": {},
   "outputs": [],
   "source": [
    "# '''\n",
    "# These three rule based methods have had the highest accuracy so far. lets see if we can combine them to get a better accuracy\n",
    "# '''\n",
    "# mask = df[\"is_last_letter_vowel\"] | df[\"is_first_letter_AMS\"] | (df[\"syllable_count\"] <= 2.5)\n",
    "# sum(df[\"gender\"] == np.where(mask, 'F', 'M')) / df.shape[0] * 100"
   ]
  },
  {
   "cell_type": "code",
   "execution_count": 37,
   "id": "43d82d66",
   "metadata": {
    "vscode": {
     "languageId": "ruby"
    }
   },
   "outputs": [
    {
     "data": {
      "text/plain": [
       "65.21604086140253"
      ]
     },
     "execution_count": 37,
     "metadata": {},
     "output_type": "execute_result"
    }
   ],
   "source": [
    "'''\n",
    "If last letter vowel: Female\n",
    "if first letter either A, M or S: female\n",
    "if syllable count > 2.5, then female/\n",
    "'''\n",
    "mask = df[\"is_last_letter_vowel\"] | df[\"is_first_letter_AMS\"] | (df[\"syllable_count\"] > 2.5)\n",
    "\n",
    "df['predicted_gender_combined'] = np.where(mask, 'F', 'M')\n",
    "\n",
    "sum(df[\"gender\"] == df[\"predicted_gender_combined\"]) / df.shape[0] * 100"
   ]
  },
  {
   "cell_type": "markdown",
   "id": "75f46c5a",
   "metadata": {},
   "source": [
    "<b> we know that females generally tend to have higher syllable count and females generally tend to have last letter vowel. What if we use those two only?"
   ]
  },
  {
   "cell_type": "code",
   "execution_count": 64,
   "id": "68261895",
   "metadata": {
    "vscode": {
     "languageId": "ruby"
    }
   },
   "outputs": [
    {
     "name": "stderr",
     "output_type": "stream",
     "text": [
      "C:\\Users\\neupa\\AppData\\Local\\Temp\\ipykernel_20260\\888994637.py:3: SettingWithCopyWarning: \n",
      "A value is trying to be set on a copy of a slice from a DataFrame.\n",
      "Try using .loc[row_indexer,col_indexer] = value instead\n",
      "\n",
      "See the caveats in the documentation: https://pandas.pydata.org/pandas-docs/stable/user_guide/indexing.html#returning-a-view-versus-a-copy\n",
      "  df['predicted_gender_combined'] = np.where(mask, 'F', 'M')\n"
     ]
    },
    {
     "data": {
      "text/plain": [
       "68.8017669795693"
      ]
     },
     "execution_count": 64,
     "metadata": {},
     "output_type": "execute_result"
    }
   ],
   "source": [
    "mask = df[\"is_last_letter_vowel\"] & (df[\"syllable_count\"] > 1.5)\n",
    "\n",
    "df['predicted_gender_combined'] = np.where(mask, 'F', 'M')\n",
    "\n",
    "sum(df[\"gender\"] == df[\"predicted_gender_combined\"]) / df.shape[0] * 100"
   ]
  },
  {
   "cell_type": "code",
   "execution_count": null,
   "id": "b2665c98",
   "metadata": {
    "vscode": {
     "languageId": "ruby"
    }
   },
   "outputs": [],
   "source": []
  },
  {
   "cell_type": "markdown",
   "id": "ff71cfe8",
   "metadata": {},
   "source": [
    "<b> well, the accuracy slightl reduced."
   ]
  },
  {
   "cell_type": "code",
   "execution_count": 38,
   "id": "ad63be16",
   "metadata": {},
   "outputs": [],
   "source": [
    "df = df[[\"name\", \"gender\", \"is_last_letter_vowel\", \"is_first_letter_AMS\", \"syllable_count\"]]"
   ]
  },
  {
   "cell_type": "code",
   "execution_count": 45,
   "id": "f68d9817",
   "metadata": {},
   "outputs": [
    {
     "data": {
      "text/html": [
       "<div>\n",
       "<style scoped>\n",
       "    .dataframe tbody tr th:only-of-type {\n",
       "        vertical-align: middle;\n",
       "    }\n",
       "\n",
       "    .dataframe tbody tr th {\n",
       "        vertical-align: top;\n",
       "    }\n",
       "\n",
       "    .dataframe thead th {\n",
       "        text-align: right;\n",
       "    }\n",
       "</style>\n",
       "<table border=\"1\" class=\"dataframe\">\n",
       "  <thead>\n",
       "    <tr style=\"text-align: right;\">\n",
       "      <th></th>\n",
       "      <th>name</th>\n",
       "      <th>gender</th>\n",
       "      <th>is_last_letter_vowel</th>\n",
       "      <th>is_first_letter_AMS</th>\n",
       "      <th>syllable_count</th>\n",
       "    </tr>\n",
       "  </thead>\n",
       "  <tbody>\n",
       "    <tr>\n",
       "      <th>0</th>\n",
       "      <td>Brennen</td>\n",
       "      <td>F</td>\n",
       "      <td>False</td>\n",
       "      <td>False</td>\n",
       "      <td>2</td>\n",
       "    </tr>\n",
       "    <tr>\n",
       "      <th>1</th>\n",
       "      <td>Chikaima</td>\n",
       "      <td>F</td>\n",
       "      <td>True</td>\n",
       "      <td>False</td>\n",
       "      <td>4</td>\n",
       "    </tr>\n",
       "    <tr>\n",
       "      <th>2</th>\n",
       "      <td>Zoejane</td>\n",
       "      <td>F</td>\n",
       "      <td>True</td>\n",
       "      <td>False</td>\n",
       "      <td>4</td>\n",
       "    </tr>\n",
       "    <tr>\n",
       "      <th>3</th>\n",
       "      <td>Teegan</td>\n",
       "      <td>F</td>\n",
       "      <td>False</td>\n",
       "      <td>False</td>\n",
       "      <td>2</td>\n",
       "    </tr>\n",
       "    <tr>\n",
       "      <th>4</th>\n",
       "      <td>Alanda</td>\n",
       "      <td>F</td>\n",
       "      <td>True</td>\n",
       "      <td>True</td>\n",
       "      <td>3</td>\n",
       "    </tr>\n",
       "    <tr>\n",
       "      <th>...</th>\n",
       "      <td>...</td>\n",
       "      <td>...</td>\n",
       "      <td>...</td>\n",
       "      <td>...</td>\n",
       "      <td>...</td>\n",
       "    </tr>\n",
       "    <tr>\n",
       "      <th>28971</th>\n",
       "      <td>Arther</td>\n",
       "      <td>M</td>\n",
       "      <td>False</td>\n",
       "      <td>True</td>\n",
       "      <td>1</td>\n",
       "    </tr>\n",
       "    <tr>\n",
       "      <th>28972</th>\n",
       "      <td>Jamani</td>\n",
       "      <td>M</td>\n",
       "      <td>True</td>\n",
       "      <td>False</td>\n",
       "      <td>4</td>\n",
       "    </tr>\n",
       "    <tr>\n",
       "      <th>28973</th>\n",
       "      <td>Mickeal</td>\n",
       "      <td>M</td>\n",
       "      <td>False</td>\n",
       "      <td>True</td>\n",
       "      <td>2</td>\n",
       "    </tr>\n",
       "    <tr>\n",
       "      <th>28974</th>\n",
       "      <td>Chad</td>\n",
       "      <td>M</td>\n",
       "      <td>False</td>\n",
       "      <td>False</td>\n",
       "      <td>1</td>\n",
       "    </tr>\n",
       "    <tr>\n",
       "      <th>28975</th>\n",
       "      <td>Leory</td>\n",
       "      <td>M</td>\n",
       "      <td>False</td>\n",
       "      <td>False</td>\n",
       "      <td>3</td>\n",
       "    </tr>\n",
       "  </tbody>\n",
       "</table>\n",
       "<p>28976 rows × 5 columns</p>\n",
       "</div>"
      ],
      "text/plain": [
       "           name gender  is_last_letter_vowel  is_first_letter_AMS  \\\n",
       "0       Brennen      F                 False                False   \n",
       "1      Chikaima      F                  True                False   \n",
       "2       Zoejane      F                  True                False   \n",
       "3        Teegan      F                 False                False   \n",
       "4        Alanda      F                  True                 True   \n",
       "...         ...    ...                   ...                  ...   \n",
       "28971    Arther      M                 False                 True   \n",
       "28972    Jamani      M                  True                False   \n",
       "28973   Mickeal      M                 False                 True   \n",
       "28974      Chad      M                 False                False   \n",
       "28975     Leory      M                 False                False   \n",
       "\n",
       "       syllable_count  \n",
       "0                   2  \n",
       "1                   4  \n",
       "2                   4  \n",
       "3                   2  \n",
       "4                   3  \n",
       "...               ...  \n",
       "28971               1  \n",
       "28972               4  \n",
       "28973               2  \n",
       "28974               1  \n",
       "28975               3  \n",
       "\n",
       "[28976 rows x 5 columns]"
      ]
     },
     "execution_count": 45,
     "metadata": {},
     "output_type": "execute_result"
    }
   ],
   "source": [
    "df"
   ]
  },
  {
   "cell_type": "code",
   "execution_count": null,
   "id": "4070ba21",
   "metadata": {},
   "outputs": [],
   "source": []
  },
  {
   "cell_type": "code",
   "execution_count": null,
   "id": "3e82fb51",
   "metadata": {},
   "outputs": [],
   "source": []
  },
  {
   "cell_type": "markdown",
   "id": "c1fbd8e4",
   "metadata": {},
   "source": [
    "## Part2\n",
    "\n",
    "Write the inference function based on the findings..."
   ]
  },
  {
   "cell_type": "code",
   "execution_count": null,
   "id": "3cfc4e5c",
   "metadata": {},
   "outputs": [],
   "source": [
    "def predict_one(name): # <-- (Don't change the function signature) DO NOT CHANGE THIS LINE\n",
    "    # write your codes below this line....\n",
    "    \n",
    "    return 'M'\n",
    "\n",
    "# print(predict_one('Jasmine'))"
   ]
  },
  {
   "cell_type": "code",
   "execution_count": null,
   "id": "3889bd65",
   "metadata": {},
   "outputs": [],
   "source": [
    "## DO NOT CHANGE ANYTHING IN THIS CELL!!!\n",
    "predictions = [ predict_one(name) for name in df.name]\n",
    "accuracy = sum(df.gender == predictions) / len(df)\n",
    "print(f\"Accuracy: {accuracy}\")"
   ]
  },
  {
   "cell_type": "markdown",
   "id": "be0dc662",
   "metadata": {},
   "source": [
    "## Part3 \n",
    "\n",
    "\n",
    "Write the above function in one of the following languages:\n",
    "1. javascript\n",
    "2. sql\n",
    "\n",
    "For javascript:\n",
    "\n",
    "The following is the starter code. \n",
    "\n",
    "* Open a new file in week3 folder name it `name_predictor.html`\n",
    "\n",
    "* Fill the `predictOne` function based on the function above\n",
    "\n",
    "* Save and double click on the html file to test it.\n"
   ]
  },
  {
   "cell_type": "raw",
   "id": "5488cbf8",
   "metadata": {},
   "source": [
    "<!DOCTYPE html>\n",
    "<html lang=\"en\">\n",
    "\n",
    "<head>\n",
    "    <title>Gender Prediction</title>\n",
    "    <!-- Bootstrap CSS -->\n",
    "    <link href=\"https://maxcdn.bootstrapcdn.com/bootstrap/4.5.2/css/bootstrap.min.css\" rel=\"stylesheet\">\n",
    "</head>\n",
    "\n",
    "<body class=\"container py-5\">\n",
    "\n",
    "    <div class=\"form-group\">\n",
    "        <label for=\"inputBox\" class=\"font-weight-bold\">Enter Name:</label>\n",
    "        <input type=\"text\" \n",
    "               id=\"inputBox\" \n",
    "               class=\"form-control\" \n",
    "               placeholder=\"Type name...\" \n",
    "               oninput=\"runInference()\">\n",
    "    </div>\n",
    "    <div id=\"result\" class=\"alert alert-info mt-3\">Prediction: </div>\n",
    "\n",
    "    <script>\n",
    "        function runInference() {\n",
    "            const input = document.getElementById('inputBox').value;\n",
    "            const prediction = predictOne(input);\n",
    "\n",
    "            document.getElementById('result').textContent = `Prediction: ${prediction}`;\n",
    "        }\n",
    "\n",
    "        function predictOne(name) {\n",
    "            if (typeof name !== 'string') return;\n",
    "            name = name.toLowerCase();\n",
    "            // enter your code here....\n",
    "\n",
    "            // sample - check if the last letter is a vowel\n",
    "            if (name.match(/[aeiou]$/)) {\n",
    "                return 'F';\n",
    "            }\n",
    "\n",
    "            return 'M';\n",
    "        }\n",
    "    </script>\n",
    "\n",
    "</body>\n",
    "\n",
    "</html>"
   ]
  },
  {
   "cell_type": "markdown",
   "id": "eca103ba-044a-423d-a131-f4bd5c26afd7",
   "metadata": {},
   "source": [
    "For sql:\n",
    "\n",
    "The following is a sample function code for postgres. \n",
    "If you don't have a database engine installed on your computer, you can use: https://onecompiler.com/\n",
    "\n",
    "If you already have a local server, use that to create a function that contains the logic you came up with.\n"
   ]
  },
  {
   "cell_type": "raw",
   "id": "a3cb2645-2b23-4d49-951f-7edbcbcfa2fd",
   "metadata": {},
   "source": [
    "CREATE OR REPLACE FUNCTION predict_gender(input_string TEXT)\n",
    "RETURNS TEXT AS $$\n",
    "BEGIN\n",
    "    if right(input_string,1) in ('a', 'e', 'i', 'o', 'u') then\n",
    "      RETURN 'F';\n",
    "    end if;\n",
    "    \n",
    "    RETURN 'M';\n",
    "END;\n",
    "$$ LANGUAGE plpgsql;\n",
    "\n",
    "\n",
    "select predict_gender('jack')"
   ]
  },
  {
   "cell_type": "code",
   "execution_count": null,
   "id": "a8b370d4-4a52-4a59-9a7f-c8c52e601b25",
   "metadata": {},
   "outputs": [],
   "source": []
  }
 ],
 "metadata": {
  "kernelspec": {
   "display_name": "geo_env",
   "language": "python",
   "name": "python3"
  },
  "language_info": {
   "codemirror_mode": {
    "name": "ipython",
    "version": 3
   },
   "file_extension": ".py",
   "mimetype": "text/x-python",
   "name": "python",
   "nbconvert_exporter": "python",
   "pygments_lexer": "ipython3",
   "version": "3.11.0"
  },
  "toc": {
   "base_numbering": 1,
   "nav_menu": {},
   "number_sections": true,
   "sideBar": true,
   "skip_h1_title": false,
   "title_cell": "Table of Contents",
   "title_sidebar": "Contents",
   "toc_cell": false,
   "toc_position": {},
   "toc_section_display": true,
   "toc_window_display": false
  }
 },
 "nbformat": 4,
 "nbformat_minor": 5
}
